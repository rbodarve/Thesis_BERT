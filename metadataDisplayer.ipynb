{
 "cells": [
  {
   "cell_type": "code",
   "execution_count": null,
   "id": "841bbf13",
   "metadata": {},
   "outputs": [
    {
     "name": "stderr",
     "output_type": "stream",
     "text": [
      "2025-09-06 01:13:29.139098: E external/local_xla/xla/stream_executor/cuda/cuda_fft.cc:467] Unable to register cuFFT factory: Attempting to register factory for plugin cuFFT when one has already been registered\n",
      "WARNING: All log messages before absl::InitializeLog() is called are written to STDERR\n",
      "E0000 00:00:1757092409.208966  167154 cuda_dnn.cc:8579] Unable to register cuDNN factory: Attempting to register factory for plugin cuDNN when one has already been registered\n",
      "E0000 00:00:1757092409.227962  167154 cuda_blas.cc:1407] Unable to register cuBLAS factory: Attempting to register factory for plugin cuBLAS when one has already been registered\n",
      "W0000 00:00:1757092409.396896  167154 computation_placer.cc:177] computation placer already registered. Please check linkage and avoid linking the same target more than once.\n",
      "W0000 00:00:1757092409.396926  167154 computation_placer.cc:177] computation placer already registered. Please check linkage and avoid linking the same target more than once.\n",
      "W0000 00:00:1757092409.396928  167154 computation_placer.cc:177] computation placer already registered. Please check linkage and avoid linking the same target more than once.\n",
      "W0000 00:00:1757092409.396930  167154 computation_placer.cc:177] computation placer already registered. Please check linkage and avoid linking the same target more than once.\n",
      "2025-09-06 01:13:29.411041: I tensorflow/core/platform/cpu_feature_guard.cc:210] This TensorFlow binary is optimized to use available CPU instructions in performance-critical operations.\n",
      "To enable the following instructions: AVX2 FMA, in other operations, rebuild TensorFlow with the appropriate compiler flags.\n"
     ]
    },
    {
     "name": "stdout",
     "output_type": "stream",
     "text": [
      "Name: serving_default_attention_mask:0\n",
      "Index: 0\n",
      "--------------------\n",
      "Name: serving_default_input_ids:0\n",
      "Index: 1\n",
      "--------------------\n",
      "Name: serving_default_token_type_ids:0\n",
      "Index: 2\n",
      "--------------------\n"
     ]
    },
    {
     "name": "stderr",
     "output_type": "stream",
     "text": [
      "/home/ubuntu-rainn/Projects/Thesis_BERT/bertenv/lib/python3.12/site-packages/tensorflow/lite/python/interpreter.py:457: UserWarning:     Warning: tf.lite.Interpreter is deprecated and is scheduled for deletion in\n",
      "    TF 2.20. Please use the LiteRT interpreter from the ai_edge_litert package.\n",
      "    See the [migration guide](https://ai.google.dev/edge/litert/migration)\n",
      "    for details.\n",
      "    \n",
      "  warnings.warn(_INTERPRETER_DELETION_WARNING)\n",
      "INFO: Created TensorFlow Lite XNNPACK delegate for CPU.\n"
     ]
    }
   ],
   "source": [
    "from tflite_support.metadata_writers import bert_nl_classifier\n",
    "from tflite_support.metadata_writers import writer_utils\n",
    "from tflite_support.metadata_writers import metadata_info\n",
    "\n",
    "label_file = \"labels.txt\"\n",
    "vocab_file = \"vocab.txt\"\n",
    "# _DELIM_REGEX_PATTERN = r\"[^\\w\\']+\"\n",
    "_MODEL_PATH = \"exporter_nsfw_model.tflite\"\n",
    "_SAVE_TO_PATH = \"exporter_nsfw_model_metadata.tflite\"\n",
    "\n",
    "\n",
    "writer = bert_nl_classifier.MetadataWriter.create_for_inference(\n",
    "    writer_utils.load_file(_MODEL_PATH),\n",
    "    metadata_info.BertTokenizerMd(vocab_file),\n",
    "    [label_file],\n",
    "    ids_name=\"serving_default_input_ids:0\",\n",
    "    mask_name=\"serving_default_attention_mask:0\",\n",
    "    segment_name=\"serving_default_token_type_ids:0\"\n",
    "\n",
    ")\n",
    "\n",
    "print(writer.get_metadata_json())\n",
    "writer_utils.save_file(writer.populate(), _SAVE_TO_PATH)\n",
    "\n",
    "\n",
    "metadata_json_file = \"exporter_nsfw_model_metadata.json\"\n",
    "with open(metadata_json_file, \"w\") as f:\n",
    "    f.write(writer.get_metadata_json())"
   ]
  }
 ],
 "metadata": {
  "kernelspec": {
   "display_name": "bertenv (3.12.2)",
   "language": "python",
   "name": "python3"
  },
  "language_info": {
   "codemirror_mode": {
    "name": "ipython",
    "version": 3
   },
   "file_extension": ".py",
   "mimetype": "text/x-python",
   "name": "python",
   "nbconvert_exporter": "python",
   "pygments_lexer": "ipython3",
   "version": "3.12.2"
  }
 },
 "nbformat": 4,
 "nbformat_minor": 5
}
